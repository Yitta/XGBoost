{
 "cells": [
  {
   "cell_type": "code",
   "execution_count": 1,
   "metadata": {},
   "outputs": [
    {
     "data": {
      "text/plain": [
       "(2769, 400)"
      ]
     },
     "execution_count": 1,
     "metadata": {},
     "output_type": "execute_result"
    }
   ],
   "source": [
    "import pandas as pd\n",
    "from pandas import DataFrame\n",
    "\n",
    "# input file\n",
    "output_file_directory = './sample data/output_feature_label.csv'\n",
    "\n",
    "# output file\n",
    "output_2_days_directory = './sample data/output_2_days_water_inlet.csv'\n",
    "\n",
    "df_pump_open = pd.read_csv(output_file_directory, parse_dates=['measurement_result_date'])\n",
    "df_pump_open.shape"
   ]
  },
  {
   "cell_type": "code",
   "execution_count": 2,
   "metadata": {},
   "outputs": [],
   "source": [
    "from pandas import DataFrame\n",
    "\n",
    "df_plot_1 = DataFrame()\n",
    "df_plot_1= df_pump_open[['average_result_value','res_cl_hist_0min','measurement_result_date','zone_flow_hist_0min']]\n",
    "df_plot_1.index = df_plot_1['measurement_result_date']\n",
    "#df_plot = df_plot_1.drop(['measurement_result_date'],axis=1)\n",
    "\n",
    "df_plot = df_plot_1.sort_index()"
   ]
  },
  {
   "cell_type": "code",
   "execution_count": 3,
   "metadata": {},
   "outputs": [
    {
     "data": {
      "text/html": [
       "<div>\n",
       "<style scoped>\n",
       "    .dataframe tbody tr th:only-of-type {\n",
       "        vertical-align: middle;\n",
       "    }\n",
       "\n",
       "    .dataframe tbody tr th {\n",
       "        vertical-align: top;\n",
       "    }\n",
       "\n",
       "    .dataframe thead th {\n",
       "        text-align: right;\n",
       "    }\n",
       "</style>\n",
       "<table border=\"1\" class=\"dataframe\">\n",
       "  <thead>\n",
       "    <tr style=\"text-align: right;\">\n",
       "      <th></th>\n",
       "      <th>average_result_value</th>\n",
       "      <th>res_cl_hist_0min</th>\n",
       "      <th>zone_flow_hist_0min</th>\n",
       "    </tr>\n",
       "    <tr>\n",
       "      <th>measurement_result_date</th>\n",
       "      <th></th>\n",
       "      <th></th>\n",
       "      <th></th>\n",
       "    </tr>\n",
       "  </thead>\n",
       "  <tbody>\n",
       "    <tr>\n",
       "      <th>2016-12-01 00:00:00</th>\n",
       "      <td>NaN</td>\n",
       "      <td>NaN</td>\n",
       "      <td>NaN</td>\n",
       "    </tr>\n",
       "    <tr>\n",
       "      <th>2016-12-01 00:15:00</th>\n",
       "      <td>-0.0012</td>\n",
       "      <td>0.002024</td>\n",
       "      <td>-0.163237</td>\n",
       "    </tr>\n",
       "    <tr>\n",
       "      <th>2016-12-01 00:30:00</th>\n",
       "      <td>-0.0020</td>\n",
       "      <td>0.001679</td>\n",
       "      <td>-0.146359</td>\n",
       "    </tr>\n",
       "    <tr>\n",
       "      <th>2016-12-01 00:45:00</th>\n",
       "      <td>-0.0108</td>\n",
       "      <td>0.001758</td>\n",
       "      <td>-0.058436</td>\n",
       "    </tr>\n",
       "    <tr>\n",
       "      <th>2016-12-01 01:00:00</th>\n",
       "      <td>-0.0126</td>\n",
       "      <td>0.000928</td>\n",
       "      <td>0.003044</td>\n",
       "    </tr>\n",
       "  </tbody>\n",
       "</table>\n",
       "</div>"
      ],
      "text/plain": [
       "                         average_result_value  res_cl_hist_0min  \\\n",
       "measurement_result_date                                           \n",
       "2016-12-01 00:00:00                       NaN               NaN   \n",
       "2016-12-01 00:15:00                   -0.0012          0.002024   \n",
       "2016-12-01 00:30:00                   -0.0020          0.001679   \n",
       "2016-12-01 00:45:00                   -0.0108          0.001758   \n",
       "2016-12-01 01:00:00                   -0.0126          0.000928   \n",
       "\n",
       "                         zone_flow_hist_0min  \n",
       "measurement_result_date                       \n",
       "2016-12-01 00:00:00                      NaN  \n",
       "2016-12-01 00:15:00                -0.163237  \n",
       "2016-12-01 00:30:00                -0.146359  \n",
       "2016-12-01 00:45:00                -0.058436  \n",
       "2016-12-01 01:00:00                 0.003044  "
      ]
     },
     "execution_count": 3,
     "metadata": {},
     "output_type": "execute_result"
    }
   ],
   "source": [
    "df_diff = df_plot.diff()\n",
    "df_diff_1 = df_diff.drop(['measurement_result_date'],axis=1)\n",
    "df_diff_1.head(5)"
   ]
  },
  {
   "cell_type": "code",
   "execution_count": 4,
   "metadata": {},
   "outputs": [
    {
     "name": "stdout",
     "output_type": "stream",
     "text": [
      "Using matplotlib backend: MacOSX\n"
     ]
    },
    {
     "data": {
      "text/plain": [
       "<matplotlib.axes._subplots.AxesSubplot at 0x115778310>"
      ]
     },
     "execution_count": 4,
     "metadata": {},
     "output_type": "execute_result"
    }
   ],
   "source": [
    "%matplotlib\n",
    "import matplotlib.pyplot as plt\n",
    "\n",
    "df_diff_2 = df_diff_1.drop(['zone_flow_hist_0min'],axis=1)\n",
    "df_diff_2.plot()"
   ]
  },
  {
   "cell_type": "code",
   "execution_count": 5,
   "metadata": {},
   "outputs": [],
   "source": [
    "df_diff.index = df_diff.index.strftime('%Y-%m-%d %R')"
   ]
  },
  {
   "cell_type": "code",
   "execution_count": 23,
   "metadata": {},
   "outputs": [],
   "source": [
    "a = df_diff[1020:1081]"
   ]
  },
  {
   "cell_type": "code",
   "execution_count": 24,
   "metadata": {},
   "outputs": [
    {
     "data": {
      "text/plain": [
       "count    2768.000000\n",
       "mean       -0.000079\n",
       "std         0.079448\n",
       "min        -0.462800\n",
       "25%        -0.010200\n",
       "50%        -0.003200\n",
       "75%         0.003800\n",
       "max         0.419000\n",
       "Name: average_result_value, dtype: float64"
      ]
     },
     "execution_count": 24,
     "metadata": {},
     "output_type": "execute_result"
    }
   ],
   "source": [
    "df_diff_tem_1 = df_diff.drop(['res_cl_hist_0min', 'zone_flow_hist_0min'],axis=1)\n",
    "df_diff_tem_1['average_result_value'].describe()"
   ]
  },
  {
   "cell_type": "code",
   "execution_count": 25,
   "metadata": {},
   "outputs": [],
   "source": [
    "a_1 = a.drop(['zone_flow_hist_0min','res_cl_hist_0min'],axis=1)\n",
    "# a_1.plot()"
   ]
  },
  {
   "cell_type": "code",
   "execution_count": 26,
   "metadata": {},
   "outputs": [
    {
     "data": {
      "text/html": [
       "<div>\n",
       "<style scoped>\n",
       "    .dataframe tbody tr th:only-of-type {\n",
       "        vertical-align: middle;\n",
       "    }\n",
       "\n",
       "    .dataframe tbody tr th {\n",
       "        vertical-align: top;\n",
       "    }\n",
       "\n",
       "    .dataframe thead th {\n",
       "        text-align: right;\n",
       "    }\n",
       "</style>\n",
       "<table border=\"1\" class=\"dataframe\">\n",
       "  <thead>\n",
       "    <tr style=\"text-align: right;\">\n",
       "      <th></th>\n",
       "      <th>average_result_value</th>\n",
       "      <th>measurement_result_date</th>\n",
       "    </tr>\n",
       "  </thead>\n",
       "  <tbody>\n",
       "    <tr>\n",
       "      <th>2017-01-02 04:00</th>\n",
       "      <td>-0.0020</td>\n",
       "      <td>00:15:00</td>\n",
       "    </tr>\n",
       "    <tr>\n",
       "      <th>2017-01-02 22:15</th>\n",
       "      <td>-0.0926</td>\n",
       "      <td>18:15:00</td>\n",
       "    </tr>\n",
       "    <tr>\n",
       "      <th>2017-01-02 22:30</th>\n",
       "      <td>-0.0012</td>\n",
       "      <td>00:15:00</td>\n",
       "    </tr>\n",
       "    <tr>\n",
       "      <th>2017-01-02 22:45</th>\n",
       "      <td>-0.0064</td>\n",
       "      <td>00:15:00</td>\n",
       "    </tr>\n",
       "    <tr>\n",
       "      <th>2017-01-02 23:00</th>\n",
       "      <td>0.1230</td>\n",
       "      <td>00:15:00</td>\n",
       "    </tr>\n",
       "    <tr>\n",
       "      <th>2017-01-02 23:15</th>\n",
       "      <td>-0.0138</td>\n",
       "      <td>00:15:00</td>\n",
       "    </tr>\n",
       "    <tr>\n",
       "      <th>2017-01-02 23:30</th>\n",
       "      <td>-0.0496</td>\n",
       "      <td>00:15:00</td>\n",
       "    </tr>\n",
       "    <tr>\n",
       "      <th>2017-01-02 23:45</th>\n",
       "      <td>0.0038</td>\n",
       "      <td>00:15:00</td>\n",
       "    </tr>\n",
       "    <tr>\n",
       "      <th>2017-01-03 00:00</th>\n",
       "      <td>0.0134</td>\n",
       "      <td>00:15:00</td>\n",
       "    </tr>\n",
       "    <tr>\n",
       "      <th>2017-01-03 00:15</th>\n",
       "      <td>0.0102</td>\n",
       "      <td>00:15:00</td>\n",
       "    </tr>\n",
       "    <tr>\n",
       "      <th>2017-01-03 00:30</th>\n",
       "      <td>0.0050</td>\n",
       "      <td>00:15:00</td>\n",
       "    </tr>\n",
       "    <tr>\n",
       "      <th>2017-01-03 00:45</th>\n",
       "      <td>-0.0184</td>\n",
       "      <td>00:15:00</td>\n",
       "    </tr>\n",
       "    <tr>\n",
       "      <th>2017-01-03 01:00</th>\n",
       "      <td>0.0076</td>\n",
       "      <td>00:15:00</td>\n",
       "    </tr>\n",
       "    <tr>\n",
       "      <th>2017-01-03 01:15</th>\n",
       "      <td>-0.0088</td>\n",
       "      <td>00:15:00</td>\n",
       "    </tr>\n",
       "    <tr>\n",
       "      <th>2017-01-03 01:30</th>\n",
       "      <td>0.0006</td>\n",
       "      <td>00:15:00</td>\n",
       "    </tr>\n",
       "    <tr>\n",
       "      <th>2017-01-03 01:45</th>\n",
       "      <td>0.0006</td>\n",
       "      <td>00:15:00</td>\n",
       "    </tr>\n",
       "    <tr>\n",
       "      <th>2017-01-03 02:00</th>\n",
       "      <td>0.0952</td>\n",
       "      <td>00:15:00</td>\n",
       "    </tr>\n",
       "    <tr>\n",
       "      <th>2017-01-03 02:15</th>\n",
       "      <td>-0.0102</td>\n",
       "      <td>00:15:00</td>\n",
       "    </tr>\n",
       "    <tr>\n",
       "      <th>2017-01-03 02:30</th>\n",
       "      <td>-0.1592</td>\n",
       "      <td>00:15:00</td>\n",
       "    </tr>\n",
       "    <tr>\n",
       "      <th>2017-01-03 02:45</th>\n",
       "      <td>0.1408</td>\n",
       "      <td>00:15:00</td>\n",
       "    </tr>\n",
       "    <tr>\n",
       "      <th>2017-01-03 03:00</th>\n",
       "      <td>0.0044</td>\n",
       "      <td>00:15:00</td>\n",
       "    </tr>\n",
       "    <tr>\n",
       "      <th>2017-01-03 03:15</th>\n",
       "      <td>-0.0050</td>\n",
       "      <td>00:15:00</td>\n",
       "    </tr>\n",
       "    <tr>\n",
       "      <th>2017-01-03 03:30</th>\n",
       "      <td>-0.0012</td>\n",
       "      <td>00:15:00</td>\n",
       "    </tr>\n",
       "    <tr>\n",
       "      <th>2017-01-03 03:45</th>\n",
       "      <td>-0.0020</td>\n",
       "      <td>00:15:00</td>\n",
       "    </tr>\n",
       "    <tr>\n",
       "      <th>2017-01-03 04:00</th>\n",
       "      <td>-0.0012</td>\n",
       "      <td>00:15:00</td>\n",
       "    </tr>\n",
       "    <tr>\n",
       "      <th>2017-01-03 04:15</th>\n",
       "      <td>-0.0052</td>\n",
       "      <td>00:15:00</td>\n",
       "    </tr>\n",
       "    <tr>\n",
       "      <th>2017-01-03 04:30</th>\n",
       "      <td>0.0008</td>\n",
       "      <td>00:15:00</td>\n",
       "    </tr>\n",
       "    <tr>\n",
       "      <th>2017-01-03 04:45</th>\n",
       "      <td>-0.0096</td>\n",
       "      <td>00:15:00</td>\n",
       "    </tr>\n",
       "    <tr>\n",
       "      <th>2017-01-03 22:15</th>\n",
       "      <td>-0.1586</td>\n",
       "      <td>17:30:00</td>\n",
       "    </tr>\n",
       "    <tr>\n",
       "      <th>2017-01-03 22:30</th>\n",
       "      <td>-0.0400</td>\n",
       "      <td>00:15:00</td>\n",
       "    </tr>\n",
       "    <tr>\n",
       "      <th>...</th>\n",
       "      <td>...</td>\n",
       "      <td>...</td>\n",
       "    </tr>\n",
       "    <tr>\n",
       "      <th>2017-01-03 23:00</th>\n",
       "      <td>-0.0032</td>\n",
       "      <td>00:15:00</td>\n",
       "    </tr>\n",
       "    <tr>\n",
       "      <th>2017-01-03 23:15</th>\n",
       "      <td>-0.0100</td>\n",
       "      <td>00:15:00</td>\n",
       "    </tr>\n",
       "    <tr>\n",
       "      <th>2017-01-03 23:30</th>\n",
       "      <td>-0.0064</td>\n",
       "      <td>00:15:00</td>\n",
       "    </tr>\n",
       "    <tr>\n",
       "      <th>2017-01-03 23:45</th>\n",
       "      <td>0.0064</td>\n",
       "      <td>00:15:00</td>\n",
       "    </tr>\n",
       "    <tr>\n",
       "      <th>2017-01-04 00:00</th>\n",
       "      <td>-0.0128</td>\n",
       "      <td>00:15:00</td>\n",
       "    </tr>\n",
       "    <tr>\n",
       "      <th>2017-01-04 00:15</th>\n",
       "      <td>-0.0018</td>\n",
       "      <td>00:15:00</td>\n",
       "    </tr>\n",
       "    <tr>\n",
       "      <th>2017-01-04 00:30</th>\n",
       "      <td>0.1592</td>\n",
       "      <td>00:15:00</td>\n",
       "    </tr>\n",
       "    <tr>\n",
       "      <th>2017-01-04 00:45</th>\n",
       "      <td>0.1612</td>\n",
       "      <td>00:15:00</td>\n",
       "    </tr>\n",
       "    <tr>\n",
       "      <th>2017-01-04 01:00</th>\n",
       "      <td>-0.2926</td>\n",
       "      <td>00:15:00</td>\n",
       "    </tr>\n",
       "    <tr>\n",
       "      <th>2017-01-04 01:15</th>\n",
       "      <td>0.1206</td>\n",
       "      <td>00:15:00</td>\n",
       "    </tr>\n",
       "    <tr>\n",
       "      <th>2017-01-04 01:30</th>\n",
       "      <td>0.1378</td>\n",
       "      <td>00:15:00</td>\n",
       "    </tr>\n",
       "    <tr>\n",
       "      <th>2017-01-04 01:45</th>\n",
       "      <td>0.0056</td>\n",
       "      <td>00:15:00</td>\n",
       "    </tr>\n",
       "    <tr>\n",
       "      <th>2017-01-04 02:00</th>\n",
       "      <td>0.0026</td>\n",
       "      <td>00:15:00</td>\n",
       "    </tr>\n",
       "    <tr>\n",
       "      <th>2017-01-04 02:15</th>\n",
       "      <td>-0.0032</td>\n",
       "      <td>00:15:00</td>\n",
       "    </tr>\n",
       "    <tr>\n",
       "      <th>2017-01-04 02:30</th>\n",
       "      <td>-0.0044</td>\n",
       "      <td>00:15:00</td>\n",
       "    </tr>\n",
       "    <tr>\n",
       "      <th>2017-01-04 02:45</th>\n",
       "      <td>-0.0032</td>\n",
       "      <td>00:15:00</td>\n",
       "    </tr>\n",
       "    <tr>\n",
       "      <th>2017-01-04 03:00</th>\n",
       "      <td>0.0032</td>\n",
       "      <td>00:15:00</td>\n",
       "    </tr>\n",
       "    <tr>\n",
       "      <th>2017-01-04 03:15</th>\n",
       "      <td>-0.0070</td>\n",
       "      <td>00:15:00</td>\n",
       "    </tr>\n",
       "    <tr>\n",
       "      <th>2017-01-04 03:30</th>\n",
       "      <td>-0.0070</td>\n",
       "      <td>00:15:00</td>\n",
       "    </tr>\n",
       "    <tr>\n",
       "      <th>2017-01-04 03:45</th>\n",
       "      <td>0.0090</td>\n",
       "      <td>00:15:00</td>\n",
       "    </tr>\n",
       "    <tr>\n",
       "      <th>2017-01-04 04:00</th>\n",
       "      <td>-0.0064</td>\n",
       "      <td>00:15:00</td>\n",
       "    </tr>\n",
       "    <tr>\n",
       "      <th>2017-01-04 04:15</th>\n",
       "      <td>-0.0038</td>\n",
       "      <td>00:15:00</td>\n",
       "    </tr>\n",
       "    <tr>\n",
       "      <th>2017-01-04 04:30</th>\n",
       "      <td>-0.0128</td>\n",
       "      <td>00:15:00</td>\n",
       "    </tr>\n",
       "    <tr>\n",
       "      <th>2017-01-04 22:15</th>\n",
       "      <td>-0.3008</td>\n",
       "      <td>17:45:00</td>\n",
       "    </tr>\n",
       "    <tr>\n",
       "      <th>2017-01-04 22:30</th>\n",
       "      <td>0.0058</td>\n",
       "      <td>00:15:00</td>\n",
       "    </tr>\n",
       "    <tr>\n",
       "      <th>2017-01-04 22:45</th>\n",
       "      <td>-0.0058</td>\n",
       "      <td>00:15:00</td>\n",
       "    </tr>\n",
       "    <tr>\n",
       "      <th>2017-01-04 23:00</th>\n",
       "      <td>-0.0006</td>\n",
       "      <td>00:15:00</td>\n",
       "    </tr>\n",
       "    <tr>\n",
       "      <th>2017-01-04 23:15</th>\n",
       "      <td>0.2660</td>\n",
       "      <td>00:15:00</td>\n",
       "    </tr>\n",
       "    <tr>\n",
       "      <th>2017-01-04 23:30</th>\n",
       "      <td>0.0018</td>\n",
       "      <td>00:15:00</td>\n",
       "    </tr>\n",
       "    <tr>\n",
       "      <th>2017-01-04 23:45</th>\n",
       "      <td>-0.2406</td>\n",
       "      <td>00:15:00</td>\n",
       "    </tr>\n",
       "  </tbody>\n",
       "</table>\n",
       "<p>61 rows × 2 columns</p>\n",
       "</div>"
      ],
      "text/plain": [
       "                  average_result_value measurement_result_date\n",
       "2017-01-02 04:00               -0.0020                00:15:00\n",
       "2017-01-02 22:15               -0.0926                18:15:00\n",
       "2017-01-02 22:30               -0.0012                00:15:00\n",
       "2017-01-02 22:45               -0.0064                00:15:00\n",
       "2017-01-02 23:00                0.1230                00:15:00\n",
       "2017-01-02 23:15               -0.0138                00:15:00\n",
       "2017-01-02 23:30               -0.0496                00:15:00\n",
       "2017-01-02 23:45                0.0038                00:15:00\n",
       "2017-01-03 00:00                0.0134                00:15:00\n",
       "2017-01-03 00:15                0.0102                00:15:00\n",
       "2017-01-03 00:30                0.0050                00:15:00\n",
       "2017-01-03 00:45               -0.0184                00:15:00\n",
       "2017-01-03 01:00                0.0076                00:15:00\n",
       "2017-01-03 01:15               -0.0088                00:15:00\n",
       "2017-01-03 01:30                0.0006                00:15:00\n",
       "2017-01-03 01:45                0.0006                00:15:00\n",
       "2017-01-03 02:00                0.0952                00:15:00\n",
       "2017-01-03 02:15               -0.0102                00:15:00\n",
       "2017-01-03 02:30               -0.1592                00:15:00\n",
       "2017-01-03 02:45                0.1408                00:15:00\n",
       "2017-01-03 03:00                0.0044                00:15:00\n",
       "2017-01-03 03:15               -0.0050                00:15:00\n",
       "2017-01-03 03:30               -0.0012                00:15:00\n",
       "2017-01-03 03:45               -0.0020                00:15:00\n",
       "2017-01-03 04:00               -0.0012                00:15:00\n",
       "2017-01-03 04:15               -0.0052                00:15:00\n",
       "2017-01-03 04:30                0.0008                00:15:00\n",
       "2017-01-03 04:45               -0.0096                00:15:00\n",
       "2017-01-03 22:15               -0.1586                17:30:00\n",
       "2017-01-03 22:30               -0.0400                00:15:00\n",
       "...                                ...                     ...\n",
       "2017-01-03 23:00               -0.0032                00:15:00\n",
       "2017-01-03 23:15               -0.0100                00:15:00\n",
       "2017-01-03 23:30               -0.0064                00:15:00\n",
       "2017-01-03 23:45                0.0064                00:15:00\n",
       "2017-01-04 00:00               -0.0128                00:15:00\n",
       "2017-01-04 00:15               -0.0018                00:15:00\n",
       "2017-01-04 00:30                0.1592                00:15:00\n",
       "2017-01-04 00:45                0.1612                00:15:00\n",
       "2017-01-04 01:00               -0.2926                00:15:00\n",
       "2017-01-04 01:15                0.1206                00:15:00\n",
       "2017-01-04 01:30                0.1378                00:15:00\n",
       "2017-01-04 01:45                0.0056                00:15:00\n",
       "2017-01-04 02:00                0.0026                00:15:00\n",
       "2017-01-04 02:15               -0.0032                00:15:00\n",
       "2017-01-04 02:30               -0.0044                00:15:00\n",
       "2017-01-04 02:45               -0.0032                00:15:00\n",
       "2017-01-04 03:00                0.0032                00:15:00\n",
       "2017-01-04 03:15               -0.0070                00:15:00\n",
       "2017-01-04 03:30               -0.0070                00:15:00\n",
       "2017-01-04 03:45                0.0090                00:15:00\n",
       "2017-01-04 04:00               -0.0064                00:15:00\n",
       "2017-01-04 04:15               -0.0038                00:15:00\n",
       "2017-01-04 04:30               -0.0128                00:15:00\n",
       "2017-01-04 22:15               -0.3008                17:45:00\n",
       "2017-01-04 22:30                0.0058                00:15:00\n",
       "2017-01-04 22:45               -0.0058                00:15:00\n",
       "2017-01-04 23:00               -0.0006                00:15:00\n",
       "2017-01-04 23:15                0.2660                00:15:00\n",
       "2017-01-04 23:30                0.0018                00:15:00\n",
       "2017-01-04 23:45               -0.2406                00:15:00\n",
       "\n",
       "[61 rows x 2 columns]"
      ]
     },
     "execution_count": 26,
     "metadata": {},
     "output_type": "execute_result"
    }
   ],
   "source": [
    "a_1"
   ]
  },
  {
   "cell_type": "code",
   "execution_count": 27,
   "metadata": {},
   "outputs": [],
   "source": [
    "# input: all data\n",
    "output_all_data = './sample data/output_all_data.csv'\n",
    "\n",
    "# output: 2 days data\n",
    "output_2_days_directory = './sample data/output_2_days_water_inlet.csv'"
   ]
  },
  {
   "cell_type": "code",
   "execution_count": 28,
   "metadata": {},
   "outputs": [
    {
     "data": {
      "text/plain": [
       "(8641, 399)"
      ]
     },
     "execution_count": 28,
     "metadata": {},
     "output_type": "execute_result"
    }
   ],
   "source": [
    "# read all data\n",
    "data_all = pd.read_csv(output_all_data, parse_dates=['measurement_result_date'])\n",
    "data_all.shape"
   ]
  },
  {
   "cell_type": "code",
   "execution_count": 29,
   "metadata": {},
   "outputs": [],
   "source": [
    "data_all = data_all.sort_values(['measurement_result_date'])\n",
    "data_all.index = data_all['measurement_result_date']"
   ]
  },
  {
   "cell_type": "code",
   "execution_count": 30,
   "metadata": {},
   "outputs": [],
   "source": [
    "data_2_days = DataFrame()\n",
    "data_2_days = data_all[['average_result_value','res_cl_hist_0min','measurement_result_date']]\n",
    "data_2_days.index = data_2_days.index.strftime('%Y-%m-%d %R')"
   ]
  },
  {
   "cell_type": "markdown",
   "metadata": {},
   "source": [
    "### period 1: 2017-01-02 22:15 ~ 2017-01-03 06:45\n",
    "* extend close time to 2 hours\n",
    "* whole open to close period\n",
    "* 19/09/2017"
   ]
  },
  {
   "cell_type": "code",
   "execution_count": 31,
   "metadata": {},
   "outputs": [
    {
     "data": {
      "text/plain": [
       "(35, 3)"
      ]
     },
     "execution_count": 31,
     "metadata": {},
     "output_type": "execute_result"
    }
   ],
   "source": [
    "data_1 = data_2_days['2017-01-02 22:15':'2017-01-03 06:45']\n",
    "data_1.shape"
   ]
  },
  {
   "cell_type": "markdown",
   "metadata": {},
   "source": [
    "### period 2: 2017-01-03 22:15 ~ 2017-01-04 06:30"
   ]
  },
  {
   "cell_type": "code",
   "execution_count": 32,
   "metadata": {},
   "outputs": [
    {
     "data": {
      "text/plain": [
       "(34, 3)"
      ]
     },
     "execution_count": 32,
     "metadata": {},
     "output_type": "execute_result"
    }
   ],
   "source": [
    "data_2 = data_2_days['2017-01-03 22:15':'2017-01-04 06:30']\n",
    "data_2.shape"
   ]
  },
  {
   "cell_type": "markdown",
   "metadata": {},
   "source": [
    "### data: 2个pump open 的时间段 + 关闭后的2个小时"
   ]
  },
  {
   "cell_type": "code",
   "execution_count": 33,
   "metadata": {},
   "outputs": [
    {
     "data": {
      "text/plain": [
       "(69, 3)"
      ]
     },
     "execution_count": 33,
     "metadata": {},
     "output_type": "execute_result"
    }
   ],
   "source": [
    "data_2_periods = pd.concat([data_1,data_2])\n",
    "data_2_periods_df = data_2_periods.drop(['measurement_result_date'],axis=1)\n",
    "data_2_periods.shape"
   ]
  },
  {
   "cell_type": "code",
   "execution_count": 34,
   "metadata": {},
   "outputs": [],
   "source": [
    "data_2_periods.to_csv(output_2_days_directory)"
   ]
  },
  {
   "cell_type": "code",
   "execution_count": 36,
   "metadata": {},
   "outputs": [
    {
     "name": "stdout",
     "output_type": "stream",
     "text": [
      "<class 'pandas.core.frame.DataFrame'>\n",
      "Index: 69 entries, 2017-01-02 22:15 to 2017-01-04 06:30\n",
      "Data columns (total 2 columns):\n",
      "average_result_value    69 non-null float64\n",
      "res_cl_hist_0min        69 non-null float64\n",
      "dtypes: float64(2)\n",
      "memory usage: 1.6+ KB\n"
     ]
    }
   ],
   "source": [
    "data_2_periods_df.info()"
   ]
  },
  {
   "cell_type": "markdown",
   "metadata": {},
   "source": [
    "### Plot with DataFrame - index is time"
   ]
  },
  {
   "cell_type": "code",
   "execution_count": 37,
   "metadata": {},
   "outputs": [
    {
     "data": {
      "text/plain": [
       "<matplotlib.axes._subplots.AxesSubplot at 0x1250d7bd0>"
      ]
     },
     "execution_count": 37,
     "metadata": {},
     "output_type": "execute_result"
    }
   ],
   "source": [
    "data_2_periods_df.plot()"
   ]
  },
  {
   "cell_type": "code",
   "execution_count": 38,
   "metadata": {},
   "outputs": [],
   "source": [
    "df = data_2_periods"
   ]
  },
  {
   "cell_type": "code",
   "execution_count": 39,
   "metadata": {},
   "outputs": [
    {
     "data": {
      "text/html": [
       "<div>\n",
       "<style scoped>\n",
       "    .dataframe tbody tr th:only-of-type {\n",
       "        vertical-align: middle;\n",
       "    }\n",
       "\n",
       "    .dataframe tbody tr th {\n",
       "        vertical-align: top;\n",
       "    }\n",
       "\n",
       "    .dataframe thead th {\n",
       "        text-align: right;\n",
       "    }\n",
       "</style>\n",
       "<table border=\"1\" class=\"dataframe\">\n",
       "  <thead>\n",
       "    <tr style=\"text-align: right;\">\n",
       "      <th></th>\n",
       "      <th>average_result_value</th>\n",
       "      <th>res_cl_hist_0min</th>\n",
       "      <th>measurement_result_date</th>\n",
       "    </tr>\n",
       "  </thead>\n",
       "  <tbody>\n",
       "    <tr>\n",
       "      <th>2017-01-02 22:15</th>\n",
       "      <td>1.1018</td>\n",
       "      <td>1.369497</td>\n",
       "      <td>2017-01-02 22:15:00</td>\n",
       "    </tr>\n",
       "    <tr>\n",
       "      <th>2017-01-02 22:30</th>\n",
       "      <td>1.1006</td>\n",
       "      <td>1.369047</td>\n",
       "      <td>2017-01-02 22:30:00</td>\n",
       "    </tr>\n",
       "    <tr>\n",
       "      <th>2017-01-02 22:45</th>\n",
       "      <td>1.0942</td>\n",
       "      <td>1.371858</td>\n",
       "      <td>2017-01-02 22:45:00</td>\n",
       "    </tr>\n",
       "    <tr>\n",
       "      <th>2017-01-02 23:00</th>\n",
       "      <td>1.2172</td>\n",
       "      <td>1.378580</td>\n",
       "      <td>2017-01-02 23:00:00</td>\n",
       "    </tr>\n",
       "    <tr>\n",
       "      <th>2017-01-02 23:15</th>\n",
       "      <td>1.2034</td>\n",
       "      <td>1.385674</td>\n",
       "      <td>2017-01-02 23:15:00</td>\n",
       "    </tr>\n",
       "  </tbody>\n",
       "</table>\n",
       "</div>"
      ],
      "text/plain": [
       "                  average_result_value  res_cl_hist_0min  \\\n",
       "2017-01-02 22:15                1.1018          1.369497   \n",
       "2017-01-02 22:30                1.1006          1.369047   \n",
       "2017-01-02 22:45                1.0942          1.371858   \n",
       "2017-01-02 23:00                1.2172          1.378580   \n",
       "2017-01-02 23:15                1.2034          1.385674   \n",
       "\n",
       "                 measurement_result_date  \n",
       "2017-01-02 22:15     2017-01-02 22:15:00  \n",
       "2017-01-02 22:30     2017-01-02 22:30:00  \n",
       "2017-01-02 22:45     2017-01-02 22:45:00  \n",
       "2017-01-02 23:00     2017-01-02 23:00:00  \n",
       "2017-01-02 23:15     2017-01-02 23:15:00  "
      ]
     },
     "execution_count": 39,
     "metadata": {},
     "output_type": "execute_result"
    }
   ],
   "source": [
    "df.head(5)"
   ]
  },
  {
   "cell_type": "code",
   "execution_count": 74,
   "metadata": {},
   "outputs": [
    {
     "data": {
      "text/html": [
       "<div>\n",
       "<style scoped>\n",
       "    .dataframe tbody tr th:only-of-type {\n",
       "        vertical-align: middle;\n",
       "    }\n",
       "\n",
       "    .dataframe tbody tr th {\n",
       "        vertical-align: top;\n",
       "    }\n",
       "\n",
       "    .dataframe thead th {\n",
       "        text-align: right;\n",
       "    }\n",
       "</style>\n",
       "<table border=\"1\" class=\"dataframe\">\n",
       "  <thead>\n",
       "    <tr style=\"text-align: right;\">\n",
       "      <th></th>\n",
       "      <th>value</th>\n",
       "      <th>chlorine</th>\n",
       "      <th>daytime</th>\n",
       "    </tr>\n",
       "  </thead>\n",
       "  <tbody>\n",
       "    <tr>\n",
       "      <th>2017-01-03 00:00</th>\n",
       "      <td>1.1710</td>\n",
       "      <td>1.399278</td>\n",
       "      <td>2017-01-03 00:00:00</td>\n",
       "    </tr>\n",
       "    <tr>\n",
       "      <th>2017-01-03 00:15</th>\n",
       "      <td>1.1812</td>\n",
       "      <td>1.403731</td>\n",
       "      <td>2017-01-03 00:15:00</td>\n",
       "    </tr>\n",
       "    <tr>\n",
       "      <th>2017-01-03 00:30</th>\n",
       "      <td>1.1862</td>\n",
       "      <td>1.406444</td>\n",
       "      <td>2017-01-03 00:30:00</td>\n",
       "    </tr>\n",
       "    <tr>\n",
       "      <th>2017-01-03 00:45</th>\n",
       "      <td>1.1678</td>\n",
       "      <td>1.406501</td>\n",
       "      <td>2017-01-03 00:45:00</td>\n",
       "    </tr>\n",
       "    <tr>\n",
       "      <th>2017-01-03 01:00</th>\n",
       "      <td>1.1754</td>\n",
       "      <td>1.404552</td>\n",
       "      <td>2017-01-03 01:00:00</td>\n",
       "    </tr>\n",
       "  </tbody>\n",
       "</table>\n",
       "</div>"
      ],
      "text/plain": [
       "                   value  chlorine             daytime\n",
       "2017-01-03 00:00  1.1710  1.399278 2017-01-03 00:00:00\n",
       "2017-01-03 00:15  1.1812  1.403731 2017-01-03 00:15:00\n",
       "2017-01-03 00:30  1.1862  1.406444 2017-01-03 00:30:00\n",
       "2017-01-03 00:45  1.1678  1.406501 2017-01-03 00:45:00\n",
       "2017-01-03 01:00  1.1754  1.404552 2017-01-03 01:00:00"
      ]
     },
     "execution_count": 74,
     "metadata": {},
     "output_type": "execute_result"
    }
   ],
   "source": [
    "df.columns = ['value','chlorine','daytime']\n",
    "df.head(5)"
   ]
  },
  {
   "cell_type": "markdown",
   "metadata": {},
   "source": [
    "### form proper x-axis for scatter\n",
    "\n",
    "* need change\n",
    "* 17/09/2017"
   ]
  },
  {
   "cell_type": "code",
   "execution_count": 75,
   "metadata": {},
   "outputs": [
    {
     "data": {
      "text/plain": [
       "count    54.000000\n",
       "mean      3.425926\n",
       "std       0.499126\n",
       "min       3.000000\n",
       "25%       3.000000\n",
       "50%       3.000000\n",
       "75%       4.000000\n",
       "max       4.000000\n",
       "Name: time, dtype: float64"
      ]
     },
     "execution_count": 75,
     "metadata": {},
     "output_type": "execute_result"
    }
   ],
   "source": [
    "df['time'] = df['daytime'].dt.day\n",
    "df['time'].describe()"
   ]
  },
  {
   "cell_type": "code",
   "execution_count": 61,
   "metadata": {},
   "outputs": [
    {
     "data": {
      "text/plain": [
       "<matplotlib.axes._subplots.AxesSubplot at 0x1142a7310>"
      ]
     },
     "execution_count": 61,
     "metadata": {},
     "output_type": "execute_result"
    }
   ],
   "source": [
    "df.plot.scatter(x='time',y='value')"
   ]
  },
  {
   "cell_type": "code",
   "execution_count": 68,
   "metadata": {},
   "outputs": [
    {
     "data": {
      "text/plain": [
       "(30, 3)"
      ]
     },
     "execution_count": 68,
     "metadata": {},
     "output_type": "execute_result"
    }
   ],
   "source": [
    "data_2.shape"
   ]
  },
  {
   "cell_type": "code",
   "execution_count": null,
   "metadata": {},
   "outputs": [],
   "source": []
  }
 ],
 "metadata": {
  "anaconda-cloud": {},
  "kernelspec": {
   "display_name": "Python 2",
   "language": "python",
   "name": "python2"
  },
  "language_info": {
   "codemirror_mode": {
    "name": "ipython",
    "version": 2
   },
   "file_extension": ".py",
   "mimetype": "text/x-python",
   "name": "python",
   "nbconvert_exporter": "python",
   "pygments_lexer": "ipython2",
   "version": "2.7.14"
  }
 },
 "nbformat": 4,
 "nbformat_minor": 1
}
