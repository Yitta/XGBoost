{
 "cells": [
  {
   "cell_type": "markdown",
   "metadata": {},
   "source": [
    "# read csv"
   ]
  },
  {
   "cell_type": "code",
   "execution_count": 4,
   "metadata": {},
   "outputs": [],
   "source": [
    "import pandas as pd\n",
    "\n",
    "# input files\n",
    "filename = \"./sample data/feature.csv\"\n",
    "filename1 = \"./sample data/wq0118_records.csv\"\n",
    "filename3 = \"./sample data/wp0071_records.csv\"\n",
    "\n",
    "filename2 = \"./sample data/R047_R258_titration_records.csv\"\n",
    "\n",
    "# output directory\n",
    "file_directory = './output_3_files.csv'"
   ]
  },
  {
   "cell_type": "code",
   "execution_count": null,
   "metadata": {},
   "outputs": [],
   "source": [
    "# read csv\n",
    "df_feature = pd.read_csv(filename, parse_dates=['timestamp'])\n",
    "df1_0118 = pd.read_csv(filename1, parse_dates=['measurement_result_date'])\n",
    "df3_0071 = pd.read_csv(filename3,parse_dates=[['Measurement Result Date','Minute 5']])\n",
    "\n",
    "# print shape\n",
    "print \"feature (df) shape: \", df_feature.shape\n",
    "print \"wq0118 (df1) shape: \", df1_0118.shape\n",
    "print \"wp0071 (df3) shape: \", df3_0071.shape"
   ]
  },
  {
   "cell_type": "code",
   "execution_count": 4,
   "metadata": {},
   "outputs": [
    {
     "name": "stdout",
     "output_type": "stream",
     "text": [
      "feature (df):  False\n",
      "wq0118 (df1):  True\n",
      "wp0071 (df3):  False\n"
     ]
    }
   ],
   "source": [
    "# is unique\n",
    "print \"feature (df): \", df_feature['timestamp'].is_unique\n",
    "print \"wq0118 (df1): \", df1_0118['measurement_result_date'].is_unique\n",
    "print \"wp0071 (df3): \", df3_0071['Measurement Result Date_Minute 5'].is_unique"
   ]
  },
  {
   "cell_type": "markdown",
   "metadata": {},
   "source": [
    "### filter duplicated data "
   ]
  },
  {
   "cell_type": "markdown",
   "metadata": {},
   "source": [
    "#### wp0071"
   ]
  },
  {
   "cell_type": "code",
   "execution_count": 22,
   "metadata": {},
   "outputs": [],
   "source": [
    "# tem_0071 = df3_0071[['Measurement Result Date_Minute 5','Average Result Value', 'Asset Code']].sort_values(['Measurement Result Date_Minute 5'])"
   ]
  },
  {
   "cell_type": "code",
   "execution_count": 17,
   "metadata": {},
   "outputs": [],
   "source": [
    "# data = tem_0071[930000:930050]\n",
    "# data.groupby(['Measurement Result Date_Minute 5']).agg({'Average Result Value': 'sum'})"
   ]
  },
  {
   "cell_type": "code",
   "execution_count": 1,
   "metadata": {},
   "outputs": [
    {
     "ename": "NameError",
     "evalue": "name 'df3_0071' is not defined",
     "output_type": "error",
     "traceback": [
      "\u001b[0;31m---------------------------------------------------------------------------\u001b[0m",
      "\u001b[0;31mNameError\u001b[0m                                 Traceback (most recent call last)",
      "\u001b[0;32m<ipython-input-1-547db90e6b33>\u001b[0m in \u001b[0;36m<module>\u001b[0;34m()\u001b[0m\n\u001b[1;32m      1\u001b[0m \u001b[0;31m# sum average result value\u001b[0m\u001b[0;34m\u001b[0m\u001b[0;34m\u001b[0m\u001b[0m\n\u001b[0;32m----> 2\u001b[0;31m \u001b[0mfeature_pmp\u001b[0m \u001b[0;34m=\u001b[0m \u001b[0mdf3_0071\u001b[0m\u001b[0;34m.\u001b[0m\u001b[0mgroupby\u001b[0m\u001b[0;34m(\u001b[0m\u001b[0;34m[\u001b[0m\u001b[0;34m'Measurement Result Date_Minute 5'\u001b[0m\u001b[0;34m]\u001b[0m\u001b[0;34m)\u001b[0m\u001b[0;34m.\u001b[0m\u001b[0magg\u001b[0m\u001b[0;34m(\u001b[0m\u001b[0;34m{\u001b[0m\u001b[0;34m'Average Result Value'\u001b[0m\u001b[0;34m:\u001b[0m \u001b[0;34m'sum'\u001b[0m\u001b[0;34m}\u001b[0m\u001b[0;34m)\u001b[0m\u001b[0;34m\u001b[0m\u001b[0m\n\u001b[0m\u001b[1;32m      3\u001b[0m \u001b[0;31m# feature_pmp['Average Result Value']\u001b[0m\u001b[0;34m\u001b[0m\u001b[0;34m\u001b[0m\u001b[0m\n",
      "\u001b[0;31mNameError\u001b[0m: name 'df3_0071' is not defined"
     ]
    }
   ],
   "source": [
    "# sum average result value\n",
    "feature_pmp = df3_0071.groupby(['Measurement Result Date_Minute 5']).agg({'Average Result Value': 'sum'})\n",
    "# feature_pmp['Average Result Value']"
   ]
  },
  {
   "cell_type": "code",
   "execution_count": null,
   "metadata": {},
   "outputs": [],
   "source": [
    "# change index to specific column\n",
    "feature_pmp['Measurement_Result_Date_Minute_15']=feature_pmp.index\n",
    "feature_pmp.shape"
   ]
  },
  {
   "cell_type": "code",
   "execution_count": null,
   "metadata": {},
   "outputs": [],
   "source": [
    "feature_pmp['Average Result Value'].describe()"
   ]
  },
  {
   "cell_type": "markdown",
   "metadata": {},
   "source": [
    "#### features"
   ]
  },
  {
   "cell_type": "code",
   "execution_count": null,
   "metadata": {},
   "outputs": [],
   "source": [
    "features_32138 = df_feature.loc[df_feature['node_id']==31238]\n",
    "features_32138['timestamp'].is_unique"
   ]
  },
  {
   "cell_type": "markdown",
   "metadata": {},
   "source": [
    "# merge (inner join)"
   ]
  },
  {
   "cell_type": "code",
   "execution_count": null,
   "metadata": {},
   "outputs": [],
   "source": [
    "# merge label and pump state\n",
    "df_merge_1 = pd.merge(df1_0118, feature_pmp, left_on='measurement_result_date', right_on='Measurement_Result_Date_Minute_15',how='inner')\n",
    "df_merge_1.shape"
   ]
  },
  {
   "cell_type": "code",
   "execution_count": null,
   "metadata": {},
   "outputs": [],
   "source": [
    "df_merge_1['measurement_result_date'].is_unique"
   ]
  },
  {
   "cell_type": "code",
   "execution_count": null,
   "metadata": {},
   "outputs": [],
   "source": [
    "# merge df with features\n",
    "df_merge_3 = pd.merge(df_merge_1, features_32138, left_on='measurement_result_date', right_on='timestamp',how='inner')\n",
    "df_merge_3.shape"
   ]
  },
  {
   "cell_type": "code",
   "execution_count": null,
   "metadata": {},
   "outputs": [],
   "source": [
    "df_merge_3['Average Result Value'].describe()"
   ]
  },
  {
   "cell_type": "code",
   "execution_count": null,
   "metadata": {},
   "outputs": [],
   "source": [
    "df_pump_open = df_merge_3.loc[df_merge_3['Average Result Value']>0]\n",
    "df_pump_open.shape"
   ]
  },
  {
   "cell_type": "markdown",
   "metadata": {},
   "source": [
    "# plot "
   ]
  },
  {
   "cell_type": "code",
   "execution_count": null,
   "metadata": {},
   "outputs": [],
   "source": [
    "x_axis= df_pump_open['measurement_result_date']\n",
    "y_label = df_pump_open['average_result_value']\n",
    "y_zone_cl = df_pump_open['zone_flow_hist_0min']\n",
    "y_res_cl = df_pump_open['res_cl_hist_0min']"
   ]
  },
  {
   "cell_type": "code",
   "execution_count": null,
   "metadata": {},
   "outputs": [],
   "source": [
    "%matplotlib\n",
    "import matplotlib.pyplot as plt\n",
    "\n",
    "fig = plt.figure(figsize=(16, 10))\n",
    "\n",
    "ax1 = fig.add_subplot(111)\n",
    "ax1.plot(x_axis, y_label, color='red', label='average_result_value')\n",
    "ax1.plot(x_axis, y_res_cl, color='blue', label='res_cl_hist_0min')\n",
    "ax1.set_ylabel('chlorine')\n",
    "ax1.set_title(\"data visualization\")\n",
    "\n",
    "# ax2 = ax1.twinx()  # this is the important function\n",
    "# ax2.plot(x_axis, y_zone_cl, 'r', color='green', label='zone_flow_hist_0min')\n",
    "# ax2.set_ylabel('folw')\n",
    "# ax2.set_xlabel('time')\n",
    "\n",
    "plt.grid(True)\n",
    " \n",
    "plt.legend(bbox_to_anchor=(1.0, 1), loc=1, borderaxespad=0.)\n",
    "\n",
    "plt.show()"
   ]
  }
 ],
 "metadata": {
  "kernelspec": {
   "display_name": "Python 2",
   "language": "python",
   "name": "python2"
  },
  "language_info": {
   "codemirror_mode": {
    "name": "ipython",
    "version": 2
   },
   "file_extension": ".py",
   "mimetype": "text/x-python",
   "name": "python",
   "nbconvert_exporter": "python",
   "pygments_lexer": "ipython2",
   "version": "2.7.14"
  }
 },
 "nbformat": 4,
 "nbformat_minor": 2
}
