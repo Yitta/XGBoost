{
 "cells": [
  {
   "cell_type": "markdown",
   "metadata": {},
   "source": [
    "# read csv"
   ]
  },
  {
   "cell_type": "code",
   "execution_count": 1,
   "metadata": {},
   "outputs": [],
   "source": [
    "import pandas as pd\n",
    "\n",
    "# input files\n",
    "filename = \"./feature.csv\"\n",
    "filename1 = \"./wq0118_records.csv\"\n",
    "filename3 = \"./wp0071_records.csv\"\n",
    "\n",
    "filename2 = \"./R047_R258_titration_records.csv\"\n",
    "\n",
    "# output directory\n",
    "file_directory = './output_3_files.csv'"
   ]
  },
  {
   "cell_type": "code",
   "execution_count": 3,
   "metadata": {},
   "outputs": [
    {
     "name": "stdout",
     "output_type": "stream",
     "text": [
      "feature (df) shape:  (17282, 392)\n",
      "wq0118 (df1) shape:  (192747, 5)\n",
      "wp0071 (df3) shape:  (930222, 27)\n"
     ]
    }
   ],
   "source": [
    "# read csv\n",
    "df_feature = pd.read_csv(filename, parse_dates=['timestamp'])\n",
    "df1_0118 = pd.read_csv(filename1, parse_dates=['measurement_result_date'])\n",
    "df3_0071 = pd.read_csv(filename3,parse_dates=[['Measurement Result Date','Minute 5']])\n",
    "\n",
    "# print shape\n",
    "print \"feature (df) shape: \", df_feature.shape\n",
    "print \"wq0118 (df1) shape: \", df1_0118.shape\n",
    "print \"wp0071 (df3) shape: \", df3_0071.shape"
   ]
  },
  {
   "cell_type": "code",
   "execution_count": 4,
   "metadata": {},
   "outputs": [
    {
     "name": "stdout",
     "output_type": "stream",
     "text": [
      "feature (df):  False\n",
      "wq0118 (df1):  True\n",
      "wp0071 (df3):  False\n"
     ]
    }
   ],
   "source": [
    "# is unique\n",
    "print \"feature (df): \", df_feature['timestamp'].is_unique\n",
    "print \"wq0118 (df1): \", df1_0118['measurement_result_date'].is_unique\n",
    "print \"wp0071 (df3): \", df3_0071['Measurement Result Date_Minute 5'].is_unique"
   ]
  },
  {
   "cell_type": "markdown",
   "metadata": {},
   "source": [
    "### filter duplicated data "
   ]
  },
  {
   "cell_type": "markdown",
   "metadata": {},
   "source": [
    "#### wp0071"
   ]
  },
  {
   "cell_type": "code",
   "execution_count": 22,
   "metadata": {},
   "outputs": [],
   "source": [
    "# tem_0071 = df3_0071[['Measurement Result Date_Minute 5','Average Result Value', 'Asset Code']].sort_values(['Measurement Result Date_Minute 5'])"
   ]
  },
  {
   "cell_type": "code",
   "execution_count": 17,
   "metadata": {},
   "outputs": [],
   "source": [
    "# data = tem_0071[930000:930050]\n",
    "# data.groupby(['Measurement Result Date_Minute 5']).agg({'Average Result Value': 'sum'})"
   ]
  },
  {
   "cell_type": "code",
   "execution_count": 25,
   "metadata": {},
   "outputs": [
    {
     "data": {
      "text/plain": [
       "Measurement Result Date_Minute 5\n",
       "2009-01-01 00:00:00    0\n",
       "2009-01-01 00:15:00    0\n",
       "2009-01-01 00:30:00    0\n",
       "2009-01-01 00:45:00    0\n",
       "2009-01-01 01:00:00    0\n",
       "2009-01-01 01:15:00    0\n",
       "2009-01-01 01:30:00    0\n",
       "2009-01-01 01:45:00    0\n",
       "2009-01-01 02:00:00    0\n",
       "2009-01-01 02:15:00    0\n",
       "Name: Average Result Value, dtype: int64"
      ]
     },
     "execution_count": 25,
     "metadata": {},
     "output_type": "execute_result"
    }
   ],
   "source": [
    "feature_pmp = df3_0071.groupby(['Measurement Result Date_Minute 5']).agg({'Average Result Value': 'sum'})\n",
    "feature_pmp['Average Result Value'].head(10)"
   ]
  },
  {
   "cell_type": "markdown",
   "metadata": {},
   "source": [
    "# merge (inner join)"
   ]
  },
  {
   "cell_type": "code",
   "execution_count": null,
   "metadata": {},
   "outputs": [],
   "source": [
    "df_merge_1 = pd.merge(df1_0118, df_feature, left_on='measurement_result_date', right_on='timestamp',how='inner')\n",
    "df_merge_3 = "
   ]
  }
 ],
 "metadata": {
  "kernelspec": {
   "display_name": "Python 2",
   "language": "python",
   "name": "python2"
  },
  "language_info": {
   "codemirror_mode": {
    "name": "ipython",
    "version": 2
   },
   "file_extension": ".py",
   "mimetype": "text/x-python",
   "name": "python",
   "nbconvert_exporter": "python",
   "pygments_lexer": "ipython2",
   "version": "2.7.14"
  }
 },
 "nbformat": 4,
 "nbformat_minor": 2
}
